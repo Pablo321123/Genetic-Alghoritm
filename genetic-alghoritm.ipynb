{
 "cells": [
  {
   "cell_type": "markdown",
   "metadata": {},
   "source": [
    "# Importar Bibliotecas"
   ]
  },
  {
   "cell_type": "code",
   "execution_count": 1,
   "metadata": {},
   "outputs": [],
   "source": [
    "import numpy as np\n",
    "from sklearn.preprocessing import normalize"
   ]
  },
  {
   "cell_type": "markdown",
   "metadata": {},
   "source": [
    "# Função para testar a população atual"
   ]
  },
  {
   "cell_type": "code",
   "execution_count": 2,
   "metadata": {},
   "outputs": [],
   "source": [
    "def print_pop(P):\n",
    "    for p in P:\n",
    "        print(p)"
   ]
  },
  {
   "cell_type": "markdown",
   "metadata": {},
   "source": [
    "# Iniciando a população"
   ]
  },
  {
   "cell_type": "code",
   "execution_count": 3,
   "metadata": {},
   "outputs": [
    {
     "name": "stdout",
     "output_type": "stream",
     "text": [
      "\n",
      "x: [9.21527815 0.54576164]\n",
      "z: 0\n",
      "z_norm: 0\n",
      "\n",
      "x: [0.66960796 1.55079749]\n",
      "z: 0\n",
      "z_norm: 0\n",
      "\n",
      "x: [3.4456871 2.9257566]\n",
      "z: 0\n",
      "z_norm: 0\n",
      "\n",
      "x: [0.87836649 3.49816661]\n",
      "z: 0\n",
      "z_norm: 0\n",
      "\n",
      "x: [7.24263101 2.80804933]\n",
      "z: 0\n",
      "z_norm: 0\n",
      "\n",
      "x: [0.04231021 7.92306258]\n",
      "z: 0\n",
      "z_norm: 0\n",
      "\n",
      "x: [2.26956899 2.2321225 ]\n",
      "z: 0\n",
      "z_norm: 0\n",
      "\n",
      "x: [9.4130046  8.58308543]\n",
      "z: 0\n",
      "z_norm: 0\n",
      "\n",
      "x: [5.93854501 8.63875998]\n",
      "z: 0\n",
      "z_norm: 0\n",
      "\n",
      "x: [1.56147988 0.66497069]\n",
      "z: 0\n",
      "z_norm: 0\n"
     ]
    }
   ],
   "source": [
    "from base import GeneticModel\n",
    "\n",
    "popsize = 10  # Population Size\n",
    "n = 2  # number of dimensions\n",
    "limits = [0, 10]  # low limit | high limit\n",
    "\n",
    "model = GeneticModel(popsize, n, limits)\n",
    "model.inicialize_pop()\n",
    "\n",
    "print_pop(model.P)"
   ]
  },
  {
   "cell_type": "markdown",
   "metadata": {},
   "source": [
    "# "
   ]
  },
  {
   "cell_type": "markdown",
   "metadata": {},
   "source": [
    "# Testando a função de avalização "
   ]
  },
  {
   "cell_type": "code",
   "execution_count": 4,
   "metadata": {},
   "outputs": [
    {
     "name": "stdout",
     "output_type": "stream",
     "text": [
      "\n",
      "x: [9.21527815 0.54576164]\n",
      "z: 0.24209348993769647\n",
      "z_norm: 0\n",
      "\n",
      "x: [0.66960796 1.55079749]\n",
      "z: 0.6323649693540612\n",
      "z_norm: 0\n",
      "\n",
      "x: [3.4456871 2.9257566]\n",
      "z: -0.2036095245274115\n",
      "z_norm: 0\n",
      "\n",
      "x: [0.87836649 3.49816661]\n",
      "z: -0.4709612617786842\n",
      "z_norm: 0\n",
      "\n",
      "x: [7.24263101 2.80804933]\n",
      "z: 1.2090295991821207\n",
      "z_norm: 0\n",
      "\n",
      "x: [0.04231021 7.92306258]\n",
      "z: 0.02443136343145706\n",
      "z_norm: 0\n",
      "\n",
      "x: [2.26956899 2.2321225 ]\n",
      "z: 1.3599600610173332\n",
      "z_norm: 0\n",
      "\n",
      "x: [9.4130046  8.58308543]\n",
      "z: 0.07891910697006517\n",
      "z_norm: 0\n",
      "\n",
      "x: [5.93854501 8.63875998]\n",
      "z: -1.712198608216698\n",
      "z_norm: 0\n",
      "\n",
      "x: [1.56147988 0.66497069]\n",
      "z: 0.6287256158200669\n",
      "z_norm: 0\n"
     ]
    }
   ],
   "source": [
    "pop = model.P\n",
    "\n",
    "for p in pop:\n",
    "    pop_fitness = model.assess_fitness(p.x)\n",
    "    p.z = pop_fitness\n",
    "\n",
    "print_pop(model.P)"
   ]
  },
  {
   "cell_type": "markdown",
   "metadata": {},
   "source": [
    "# Normalizando os valores"
   ]
  },
  {
   "cell_type": "code",
   "execution_count": 5,
   "metadata": {},
   "outputs": [
    {
     "name": "stdout",
     "output_type": "stream",
     "text": [
      "\n",
      "x: [9.21527815 0.54576164]\n",
      "z: 0.24209348993769647\n",
      "z_norm: 0.02420934899376965\n",
      "\n",
      "x: [0.66960796 1.55079749]\n",
      "z: 0.6323649693540612\n",
      "z_norm: 0.06323649693540612\n",
      "\n",
      "x: [3.4456871 2.9257566]\n",
      "z: -0.2036095245274115\n",
      "z_norm: -0.020360952452741148\n",
      "\n",
      "x: [0.87836649 3.49816661]\n",
      "z: -0.4709612617786842\n",
      "z_norm: -0.047096126177868416\n",
      "\n",
      "x: [7.24263101 2.80804933]\n",
      "z: 1.2090295991821207\n",
      "z_norm: 0.12090295991821207\n",
      "\n",
      "x: [0.04231021 7.92306258]\n",
      "z: 0.02443136343145706\n",
      "z_norm: 0.0024431363431457057\n",
      "\n",
      "x: [2.26956899 2.2321225 ]\n",
      "z: 1.3599600610173332\n",
      "z_norm: 0.13599600610173332\n",
      "\n",
      "x: [9.4130046  8.58308543]\n",
      "z: 0.07891910697006517\n",
      "z_norm: 0.007891910697006517\n",
      "\n",
      "x: [5.93854501 8.63875998]\n",
      "z: -1.712198608216698\n",
      "z_norm: -0.1712198608216698\n",
      "\n",
      "x: [1.56147988 0.66497069]\n",
      "z: 0.6287256158200669\n",
      "z_norm: 0.06287256158200669\n"
     ]
    }
   ],
   "source": [
    "model.normalize()\n",
    "print_pop(model.P)"
   ]
  },
  {
   "cell_type": "markdown",
   "metadata": {},
   "source": [
    "# Fazendo o rank Linear"
   ]
  },
  {
   "cell_type": "code",
   "execution_count": 6,
   "metadata": {},
   "outputs": [
    {
     "name": "stdout",
     "output_type": "stream",
     "text": [
      "\n",
      "x: [5.93854501 8.63875998]\n",
      "z: -1.712198608216698\n",
      "z_norm: -0.1712198608216698\n",
      "\n",
      "x: [0.87836649 3.49816661]\n",
      "z: -0.4709612617786842\n",
      "z_norm: -0.047096126177868416\n",
      "\n",
      "x: [3.4456871 2.9257566]\n",
      "z: -0.2036095245274115\n",
      "z_norm: -0.020360952452741148\n",
      "\n",
      "x: [0.04231021 7.92306258]\n",
      "z: 0.02443136343145706\n",
      "z_norm: 0.0024431363431457057\n",
      "\n",
      "x: [9.4130046  8.58308543]\n",
      "z: 0.07891910697006517\n",
      "z_norm: 0.007891910697006517\n",
      "\n",
      "x: [9.21527815 0.54576164]\n",
      "z: 0.24209348993769647\n",
      "z_norm: 0.02420934899376965\n",
      "\n",
      "x: [1.56147988 0.66497069]\n",
      "z: 0.6287256158200669\n",
      "z_norm: 0.06287256158200669\n",
      "\n",
      "x: [0.66960796 1.55079749]\n",
      "z: 0.6323649693540612\n",
      "z_norm: 0.06323649693540612\n",
      "\n",
      "x: [7.24263101 2.80804933]\n",
      "z: 1.2090295991821207\n",
      "z_norm: 0.12090295991821207\n",
      "\n",
      "x: [2.26956899 2.2321225 ]\n",
      "z: 1.3599600610173332\n",
      "z_norm: 0.13599600610173332\n"
     ]
    }
   ],
   "source": [
    "model.make_linear_rank()\n",
    "print_pop(model.P)"
   ]
  },
  {
   "cell_type": "markdown",
   "metadata": {},
   "source": [
    "# Verificando o ranque de cada individuo"
   ]
  },
  {
   "cell_type": "code",
   "execution_count": 7,
   "metadata": {},
   "outputs": [
    {
     "data": {
      "text/plain": [
       "[10.0, 9.0, 8.0, 7.0, 6.0, 5.0, 4.0, 3.0, 2.0, 1.0]"
      ]
     },
     "execution_count": 7,
     "metadata": {},
     "output_type": "execute_result"
    }
   ],
   "source": [
    "model.rank"
   ]
  },
  {
   "cell_type": "markdown",
   "metadata": {},
   "source": [
    "# Verificando a probabilidade"
   ]
  },
  {
   "cell_type": "code",
   "execution_count": 8,
   "metadata": {},
   "outputs": [
    {
     "data": {
      "text/plain": [
       "[0.18181818181818182,\n",
       " 0.16363636363636364,\n",
       " 0.14545454545454545,\n",
       " 0.12727272727272726,\n",
       " 0.10909090909090909,\n",
       " 0.09090909090909091,\n",
       " 0.07272727272727272,\n",
       " 0.05454545454545454,\n",
       " 0.03636363636363636,\n",
       " 0.01818181818181818]"
      ]
     },
     "execution_count": 8,
     "metadata": {},
     "output_type": "execute_result"
    }
   ],
   "source": [
    "model.lstProb\n",
    "#model.probs "
   ]
  },
  {
   "cell_type": "markdown",
   "metadata": {},
   "source": [
    "# Selecionando Pais"
   ]
  },
  {
   "cell_type": "code",
   "execution_count": 39,
   "metadata": {},
   "outputs": [
    {
     "name": "stdout",
     "output_type": "stream",
     "text": [
      "Pai 1: \n",
      "x: [0.04231021 7.92306258]\n",
      "z: 0.02443136343145706\n",
      "z_norm: 0.0024431363431457057\n",
      "\n",
      "Pai 2: \n",
      "x: [9.21527815 0.54576164]\n",
      "z: 0.24209348993769647\n",
      "z_norm: 0.02420934899376965\n"
     ]
    }
   ],
   "source": [
    "p_a = model.select_with_replacement()\n",
    "p_b = model.select_with_replacement(p_a)\n",
    "\n",
    "print(f\"Pai 1: {p_a}\\n\")\n",
    "print(f\"Pai 2: {p_b}\")"
   ]
  },
  {
   "cell_type": "markdown",
   "metadata": {},
   "source": [
    "# Crossover"
   ]
  },
  {
   "cell_type": "code",
   "execution_count": null,
   "metadata": {},
   "outputs": [],
   "source": []
  }
 ],
 "metadata": {
  "kernelspec": {
   "display_name": "Python 3",
   "language": "python",
   "name": "python3"
  },
  "language_info": {
   "codemirror_mode": {
    "name": "ipython",
    "version": 3
   },
   "file_extension": ".py",
   "mimetype": "text/x-python",
   "name": "python",
   "nbconvert_exporter": "python",
   "pygments_lexer": "ipython3",
   "version": "3.12.5"
  }
 },
 "nbformat": 4,
 "nbformat_minor": 2
}
