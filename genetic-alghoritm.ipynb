{
 "cells": [
  {
   "cell_type": "markdown",
   "metadata": {},
   "source": [
    "# Importar Bibliotecas"
   ]
  },
  {
   "cell_type": "code",
   "execution_count": 1,
   "metadata": {},
   "outputs": [],
   "source": [
    "import numpy as np\n",
    "from sklearn.preprocessing import normalize"
   ]
  },
  {
   "cell_type": "markdown",
   "metadata": {},
   "source": [
    "# Função para testar a população atual"
   ]
  },
  {
   "cell_type": "code",
   "execution_count": 2,
   "metadata": {},
   "outputs": [],
   "source": [
    "def print_pop(P):\n",
    "    for p in P:\n",
    "        print(p)"
   ]
  },
  {
   "cell_type": "markdown",
   "metadata": {},
   "source": [
    "# Iniciando a população"
   ]
  },
  {
   "cell_type": "code",
   "execution_count": 3,
   "metadata": {},
   "outputs": [
    {
     "name": "stdout",
     "output_type": "stream",
     "text": [
      "\n",
      "x: [1.04073055 2.25646232]\n",
      "z: 0\n",
      "z_norm: 0\n",
      "\n",
      "x: [2.23986321 4.4276895 ]\n",
      "z: 0\n",
      "z_norm: 0\n",
      "\n",
      "x: [0.19571482 9.08490072]\n",
      "z: 0\n",
      "z_norm: 0\n",
      "\n",
      "x: [7.20478684 2.00423477]\n",
      "z: 0\n",
      "z_norm: 0\n",
      "\n",
      "x: [2.82107414 2.65205733]\n",
      "z: 0\n",
      "z_norm: 0\n",
      "\n",
      "x: [7.48322132 0.40706353]\n",
      "z: 0\n",
      "z_norm: 0\n",
      "\n",
      "x: [4.26447133 1.30364751]\n",
      "z: 0\n",
      "z_norm: 0\n",
      "\n",
      "x: [8.00583061 5.03164859]\n",
      "z: 0\n",
      "z_norm: 0\n",
      "\n",
      "x: [2.45984585 7.86199292]\n",
      "z: 0\n",
      "z_norm: 0\n",
      "\n",
      "x: [2.49697134 4.33993949]\n",
      "z: 0\n",
      "z_norm: 0\n"
     ]
    }
   ],
   "source": [
    "from base import GeneticModel\n",
    "\n",
    "popsize = 10  # Population Size\n",
    "n = 2  # number of dimensions\n",
    "limits = [0, 10]  # low limit | high limit\n",
    "mutationRate = 0.01\n",
    "\n",
    "model = GeneticModel(popsize, n, limits, mutationRate)\n",
    "model.inicialize_pop()\n",
    "\n",
    "print_pop(model.P)"
   ]
  },
  {
   "cell_type": "markdown",
   "metadata": {},
   "source": [
    "# "
   ]
  },
  {
   "cell_type": "markdown",
   "metadata": {},
   "source": [
    "# Testando a função de avalização "
   ]
  },
  {
   "cell_type": "code",
   "execution_count": 4,
   "metadata": {},
   "outputs": [
    {
     "name": "stdout",
     "output_type": "stream",
     "text": [
      "\n",
      "x: [1.04073055 2.25646232]\n",
      "z: 1.0233\n",
      "z_norm: 0\n",
      "\n",
      "x: [2.23986321 4.4276895 ]\n",
      "z: -2.3708\n",
      "z_norm: 0\n",
      "\n",
      "x: [0.19571482 9.08490072]\n",
      "z: 0.0864\n",
      "z_norm: 0\n",
      "\n",
      "x: [7.20478684 2.00423477]\n",
      "z: 2.7471\n",
      "z_norm: 0\n",
      "\n",
      "x: [2.82107414 2.65205733]\n",
      "z: 0.4052\n",
      "z_norm: 0\n",
      "\n",
      "x: [7.48322132 0.40706353]\n",
      "z: 0.644\n",
      "z_norm: 0\n",
      "\n",
      "x: [4.26447133 1.30364751]\n",
      "z: -2.0498\n",
      "z_norm: 0\n",
      "\n",
      "x: [8.00583061 5.03164859]\n",
      "z: -5.9568\n",
      "z_norm: 0\n",
      "\n",
      "x: [2.45984585 7.86199292]\n",
      "z: 2.7711\n",
      "z_norm: 0\n",
      "\n",
      "x: [2.49697134 4.33993949]\n",
      "z: -1.8425\n",
      "z_norm: 0\n"
     ]
    }
   ],
   "source": [
    "pop = model.P\n",
    "\n",
    "for p in pop:\n",
    "    pop_fitness = model.assess_fitness(p.x)\n",
    "    p.z = pop_fitness\n",
    "\n",
    "print_pop(model.P)"
   ]
  },
  {
   "cell_type": "markdown",
   "metadata": {},
   "source": [
    "# Normalizando os valores"
   ]
  },
  {
   "cell_type": "code",
   "execution_count": 5,
   "metadata": {},
   "outputs": [],
   "source": [
    "#Não há nescessidade de normalizar\n",
    "\n",
    "# model.normalize()\n",
    "# print_pop(model.P)"
   ]
  },
  {
   "cell_type": "markdown",
   "metadata": {},
   "source": [
    "# Fazendo o rank Linear"
   ]
  },
  {
   "cell_type": "code",
   "execution_count": 6,
   "metadata": {},
   "outputs": [
    {
     "name": "stdout",
     "output_type": "stream",
     "text": [
      "\n",
      "x: [8.00583061 5.03164859]\n",
      "z: -5.9568\n",
      "z_norm: 0\n",
      "\n",
      "x: [2.23986321 4.4276895 ]\n",
      "z: -2.3708\n",
      "z_norm: 0\n",
      "\n",
      "x: [4.26447133 1.30364751]\n",
      "z: -2.0498\n",
      "z_norm: 0\n",
      "\n",
      "x: [2.49697134 4.33993949]\n",
      "z: -1.8425\n",
      "z_norm: 0\n",
      "\n",
      "x: [0.19571482 9.08490072]\n",
      "z: 0.0864\n",
      "z_norm: 0\n",
      "\n",
      "x: [2.82107414 2.65205733]\n",
      "z: 0.4052\n",
      "z_norm: 0\n",
      "\n",
      "x: [7.48322132 0.40706353]\n",
      "z: 0.644\n",
      "z_norm: 0\n",
      "\n",
      "x: [1.04073055 2.25646232]\n",
      "z: 1.0233\n",
      "z_norm: 0\n",
      "\n",
      "x: [7.20478684 2.00423477]\n",
      "z: 2.7471\n",
      "z_norm: 0\n",
      "\n",
      "x: [2.45984585 7.86199292]\n",
      "z: 2.7711\n",
      "z_norm: 0\n"
     ]
    }
   ],
   "source": [
    "model.make_linear_rank()\n",
    "print_pop(model.P)"
   ]
  },
  {
   "cell_type": "markdown",
   "metadata": {},
   "source": [
    "# Verificando o ranque de cada individuo"
   ]
  },
  {
   "cell_type": "code",
   "execution_count": 7,
   "metadata": {},
   "outputs": [
    {
     "data": {
      "text/plain": [
       "[10.0, 9.0, 8.0, 7.0, 6.0, 5.0, 4.0, 3.0, 2.0, 1.0]"
      ]
     },
     "execution_count": 7,
     "metadata": {},
     "output_type": "execute_result"
    }
   ],
   "source": [
    "model.rank"
   ]
  },
  {
   "cell_type": "markdown",
   "metadata": {},
   "source": [
    "# Verificando a probabilidade"
   ]
  },
  {
   "cell_type": "code",
   "execution_count": 8,
   "metadata": {},
   "outputs": [
    {
     "data": {
      "text/plain": [
       "[0.18181818181818182,\n",
       " 0.16363636363636364,\n",
       " 0.14545454545454545,\n",
       " 0.12727272727272726,\n",
       " 0.10909090909090909,\n",
       " 0.09090909090909091,\n",
       " 0.07272727272727272,\n",
       " 0.05454545454545454,\n",
       " 0.03636363636363636,\n",
       " 0.01818181818181818]"
      ]
     },
     "execution_count": 8,
     "metadata": {},
     "output_type": "execute_result"
    }
   ],
   "source": [
    "model.lstProb\n",
    "#model.probs "
   ]
  },
  {
   "cell_type": "markdown",
   "metadata": {},
   "source": [
    "# Selecionando Pais"
   ]
  },
  {
   "cell_type": "code",
   "execution_count": 9,
   "metadata": {},
   "outputs": [
    {
     "name": "stdout",
     "output_type": "stream",
     "text": [
      "Pai 1: \n",
      "x: [7.48322132 0.40706353]\n",
      "z: 0.644\n",
      "z_norm: 0\n",
      "\n",
      "Pai 2: \n",
      "x: [8.00583061 5.03164859]\n",
      "z: -5.9568\n",
      "z_norm: 0\n"
     ]
    }
   ],
   "source": [
    "p_a = model.select_with_replacement()\n",
    "p_b = model.select_with_replacement(p_a)\n",
    "\n",
    "print(f\"Pai 1: {p_a}\\n\")\n",
    "print(f\"Pai 2: {p_b}\")"
   ]
  },
  {
   "cell_type": "markdown",
   "metadata": {},
   "source": [
    "# Crossover"
   ]
  },
  {
   "cell_type": "code",
   "execution_count": 10,
   "metadata": {},
   "outputs": [
    {
     "name": "stdout",
     "output_type": "stream",
     "text": [
      "\n",
      "x: [7.73043136 2.5946325 ]\n",
      "z: 0\n",
      "z_norm: 0\n",
      "\n",
      "x: [7.64799312 1.86513406]\n",
      "z: 0\n",
      "z_norm: 0\n"
     ]
    }
   ],
   "source": [
    "children = list(model.crossover(p_a, p_b))\n",
    "print(children[0])\n",
    "print(children[1])"
   ]
  },
  {
   "cell_type": "markdown",
   "metadata": {},
   "source": [
    "# Mutação"
   ]
  },
  {
   "cell_type": "code",
   "execution_count": 11,
   "metadata": {},
   "outputs": [
    {
     "name": "stdout",
     "output_type": "stream",
     "text": [
      "\n",
      "x: [7.73043136 2.14736395]\n",
      "z: 0\n",
      "z_norm: 0\n",
      "\n",
      "x: [7.64799312 1.86513406]\n",
      "z: 0\n",
      "z_norm: 0\n"
     ]
    }
   ],
   "source": [
    "for i in range(100):\n",
    "   new_children = model.mutate(children)\n",
    "   \n",
    "print(new_children[0])\n",
    "print(new_children[1])"
   ]
  },
  {
   "cell_type": "markdown",
   "metadata": {},
   "source": [
    "# Teste do algoritmo"
   ]
  },
  {
   "cell_type": "code",
   "execution_count": 12,
   "metadata": {},
   "outputs": [
    {
     "name": "stdout",
     "output_type": "stream",
     "text": [
      "Melhor individuo: 4.3371\n"
     ]
    }
   ],
   "source": [
    "testModel = GeneticModel(popsize, n, limits, mutationRate)\n",
    "best = model.start(500)\n",
    "print(f\"Melhor individuo: {best}\")"
   ]
  }
 ],
 "metadata": {
  "kernelspec": {
   "display_name": "Python 3",
   "language": "python",
   "name": "python3"
  },
  "language_info": {
   "codemirror_mode": {
    "name": "ipython",
    "version": 3
   },
   "file_extension": ".py",
   "mimetype": "text/x-python",
   "name": "python",
   "nbconvert_exporter": "python",
   "pygments_lexer": "ipython3",
   "version": "3.12.5"
  }
 },
 "nbformat": 4,
 "nbformat_minor": 2
}
