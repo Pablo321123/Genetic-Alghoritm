{
 "cells": [
  {
   "cell_type": "markdown",
   "metadata": {},
   "source": [
    "# Importar Bibliotecas"
   ]
  },
  {
   "cell_type": "code",
   "execution_count": 1,
   "metadata": {},
   "outputs": [],
   "source": [
    "import numpy as np"
   ]
  },
  {
   "cell_type": "markdown",
   "metadata": {},
   "source": [
    "# Iniciando a população"
   ]
  },
  {
   "cell_type": "code",
   "execution_count": 2,
   "metadata": {},
   "outputs": [
    {
     "data": {
      "text/plain": [
       "array([[8.00829585, 0.03462599],\n",
       "       [8.57200502, 1.83925447],\n",
       "       [6.71222862, 3.71681177],\n",
       "       [5.26192275, 5.33872485],\n",
       "       [6.20955495, 1.65172056],\n",
       "       [9.7228558 , 7.42293273],\n",
       "       [3.86650372, 9.00137748],\n",
       "       [8.13385652, 8.33742294],\n",
       "       [8.0977308 , 2.3762448 ],\n",
       "       [0.92034434, 5.00269639]])"
      ]
     },
     "execution_count": 2,
     "metadata": {},
     "output_type": "execute_result"
    }
   ],
   "source": [
    "from base import GeneticModel\n",
    "\n",
    "popsize = 10  # Population Size\n",
    "n = 2  # number of dimensions\n",
    "limits = [0, 10]  # low limit | high limit\n",
    "\n",
    "model = GeneticModel(popsize, n, limits)\n",
    "model.inicialize_pop()"
   ]
  },
  {
   "cell_type": "markdown",
   "metadata": {},
   "source": [
    "# "
   ]
  },
  {
   "cell_type": "code",
   "execution_count": null,
   "metadata": {},
   "outputs": [],
   "source": []
  }
 ],
 "metadata": {
  "kernelspec": {
   "display_name": "Python 3",
   "language": "python",
   "name": "python3"
  },
  "language_info": {
   "codemirror_mode": {
    "name": "ipython",
    "version": 3
   },
   "file_extension": ".py",
   "mimetype": "text/x-python",
   "name": "python",
   "nbconvert_exporter": "python",
   "pygments_lexer": "ipython3",
   "version": "3.12.5"
  }
 },
 "nbformat": 4,
 "nbformat_minor": 2
}
